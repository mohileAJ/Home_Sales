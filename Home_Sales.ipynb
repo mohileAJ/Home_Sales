{
 "cells": [
  {
   "cell_type": "code",
   "execution_count": 71,
   "metadata": {
    "colab": {
     "base_uri": "https://localhost:8080/"
    },
    "id": "a_KW73O2e3dw",
    "outputId": "fa5fd2b3-e2de-491b-ee1c-405317ba7ebc"
   },
   "outputs": [],
   "source": [
    "# Import findspark and initialize. \n",
    "import findspark\n",
    "findspark.init()"
   ]
  },
  {
   "cell_type": "code",
   "execution_count": 72,
   "metadata": {
    "id": "2XbWNf1Te5fM"
   },
   "outputs": [],
   "source": [
    "# Import packages\n",
    "from pyspark.sql import SparkSession\n",
    "import time\n",
    "\n",
    "# Create a SparkSession\n",
    "spark = SparkSession.builder.appName(\"SparkSQL\").getOrCreate()"
   ]
  },
  {
   "cell_type": "code",
   "execution_count": 73,
   "metadata": {
    "colab": {
     "base_uri": "https://localhost:8080/"
    },
    "id": "wOJqxG_RPSwp",
    "outputId": "7857ef9f-5b04-405d-f5aa-e535dfe7870c"
   },
   "outputs": [
    {
     "name": "stderr",
     "output_type": "stream",
     "text": [
      "24/04/22 03:17:27 WARN SparkContext: The path https://2u-data-curriculum-team.s3.amazonaws.com/dataviz-classroom/v1.2/22-big-data/home_sales_revised.csv has been added already. Overwriting of added paths is not supported in the current version.\n"
     ]
    },
    {
     "name": "stdout",
     "output_type": "stream",
     "text": [
      "+--------------------+----------+----------+--------+--------+---------+-----------+--------+------+----------+----+\n",
      "|                  id|      date|date_built|   price|bedrooms|bathrooms|sqft_living|sqft_lot|floors|waterfront|view|\n",
      "+--------------------+----------+----------+--------+--------+---------+-----------+--------+------+----------+----+\n",
      "|f8a53099-ba1c-47d...|2022-04-08|2016-01-01|936923.0|       4|        3|     3167.0| 11733.0|     2|         1|  76|\n",
      "|7530a2d8-1ae3-451...|2021-06-13|2013-01-01|379628.0|       2|        2|     2235.0| 14384.0|     1|         0|  23|\n",
      "|43de979c-0bf0-4c9...|2019-04-12|2014-01-01|417866.0|       2|        2|     2127.0| 10575.0|     2|         0|   0|\n",
      "|b672c137-b88c-48b...|2019-10-16|2016-01-01|239895.0|       2|        2|     1631.0| 11149.0|     2|         0|   0|\n",
      "|e0726d4d-d595-407...|2022-01-08|2017-01-01|424418.0|       3|        2|     2249.0| 13878.0|     2|         0|   4|\n",
      "|5aa00529-0533-46b...|2019-01-30|2017-01-01|218712.0|       2|        3|     1965.0| 14375.0|     2|         0|   7|\n",
      "|131492a1-72e2-4a8...|2020-02-08|2017-01-01|419199.0|       2|        3|     2062.0|  8876.0|     2|         0|   6|\n",
      "|8d54a71b-c520-44e...|2019-07-21|2010-01-01|323956.0|       2|        3|     1506.0| 11816.0|     1|         0|  25|\n",
      "|e81aacfe-17fe-46b...|2020-06-16|2016-01-01|181925.0|       3|        3|     2137.0| 11709.0|     2|         0|  22|\n",
      "|2ed8d509-7372-46d...|2021-08-06|2015-01-01|258710.0|       3|        3|     1918.0|  9666.0|     1|         0|  25|\n",
      "|f876d86f-3c9f-42b...|2019-02-27|2011-01-01|167864.0|       3|        3|     2471.0| 13924.0|     2|         0|  15|\n",
      "|0a2bd445-8508-4d8...|2021-12-30|2014-01-01|337527.0|       2|        3|     1926.0| 12556.0|     1|         0|  23|\n",
      "|941bad30-eb49-4a7...|2020-05-09|2015-01-01|229896.0|       3|        3|     2197.0|  8641.0|     1|         0|   3|\n",
      "|dd61eb34-6589-4c0...|2021-07-25|2016-01-01|210247.0|       3|        2|     1672.0| 11986.0|     2|         0|  28|\n",
      "|f1e4cef7-d151-439...|2019-02-01|2011-01-01|398667.0|       2|        3|     2331.0| 11356.0|     1|         0|   7|\n",
      "|ea620c7b-c2f7-4c6...|2021-05-31|2011-01-01|437958.0|       3|        3|     2356.0| 11052.0|     1|         0|  26|\n",
      "|f233cb41-6f33-4b0...|2021-07-18|2016-01-01|437375.0|       4|        3|     1704.0| 11721.0|     2|         0|  34|\n",
      "|c797ca12-52cd-4b1...|2019-06-08|2015-01-01|288650.0|       2|        3|     2100.0| 10419.0|     2|         0|   7|\n",
      "|0cfe57f3-28c2-472...|2019-10-04|2015-01-01|308313.0|       3|        3|     1960.0|  9453.0|     2|         0|   2|\n",
      "|4566cd2a-ac6e-435...|2019-07-15|2016-01-01|177541.0|       3|        3|     2130.0| 10517.0|     2|         0|  25|\n",
      "+--------------------+----------+----------+--------+--------+---------+-----------+--------+------+----------+----+\n",
      "only showing top 20 rows\n",
      "\n"
     ]
    },
    {
     "data": {
      "text/plain": [
       "DataFrame[summary: string, id: string, price: string, bedrooms: string, bathrooms: string, sqft_living: string, sqft_lot: string, floors: string, waterfront: string, view: string]"
      ]
     },
     "execution_count": 73,
     "metadata": {},
     "output_type": "execute_result"
    }
   ],
   "source": [
    "# 1. Read in the AWS S3 bucket into a DataFrame.\n",
    "from pyspark import SparkFiles\n",
    "url = \"https://2u-data-curriculum-team.s3.amazonaws.com/dataviz-classroom/v1.2/22-big-data/home_sales_revised.csv\"\n",
    "\n",
    "spark.sparkContext.addFile(url)\n",
    "\n",
    "from pyspark.sql.types import StructType, StructField, StringType, IntegerType, DateType, FloatType\n",
    "\n",
    "schema = StructType(fields=[\n",
    "  StructField(\"id\", StringType(), False),\n",
    "  StructField(\"date\", DateType(), False),\n",
    "  StructField(\"date_built\", DateType(), False),\n",
    "  StructField(\"price\", FloatType(), False),\n",
    "  StructField(\"bedrooms\", IntegerType(), False),\n",
    "  StructField(\"bathrooms\", IntegerType(), False),\n",
    "  StructField(\"sqft_living\", FloatType(), False),\n",
    "  StructField(\"sqft_lot\", FloatType(), False),\n",
    "  StructField(\"floors\", IntegerType(), False),\n",
    "  StructField(\"waterfront\", IntegerType(), False),\n",
    "  StructField(\"view\", IntegerType(), False)\n",
    "])\n",
    "\n",
    "df = spark.read.csv(SparkFiles.get(\"home_sales_revised.csv\"), sep=\",\", header=True, schema=schema)\n",
    "\n",
    "df.show()\n",
    "df.describe()\n",
    "\n"
   ]
  },
  {
   "cell_type": "code",
   "execution_count": 74,
   "metadata": {
    "id": "RoljcJ7WPpnm"
   },
   "outputs": [],
   "source": [
    "# 2. Create a temporary view of the DataFrame.\n",
    "df.createOrReplaceTempView(\"home_sales\")\n"
   ]
  },
  {
   "cell_type": "code",
   "execution_count": 75,
   "metadata": {
    "colab": {
     "base_uri": "https://localhost:8080/"
    },
    "id": "L6fkwOeOmqvq",
    "outputId": "bdded620-79c4-488d-c7a5-91c6799c419e"
   },
   "outputs": [
    {
     "name": "stdout",
     "output_type": "stream",
     "text": [
      "+----+----------+\n",
      "|year|     price|\n",
      "+----+----------+\n",
      "|2022|296,363.88|\n",
      "|2021|301,819.44|\n",
      "|2020|298,353.78|\n",
      "|2019|300,263.70|\n",
      "+----+----------+\n",
      "\n"
     ]
    }
   ],
   "source": [
    "# 3. What is the average price for a four bedroom house sold per year, rounded to two decimal places?\n",
    "spark.sql(\"\"\"\n",
    "  SELECT\n",
    "    YEAR(date) as year,\n",
    "    format_number(avg(price), 2) as price\n",
    "  FROM home_sales\n",
    "  WHERE bedrooms = 4\n",
    "  GROUP BY year\n",
    "  ORDER BY year DESC\n",
    "\"\"\").show()\n"
   ]
  },
  {
   "cell_type": "code",
   "execution_count": 76,
   "metadata": {
    "colab": {
     "base_uri": "https://localhost:8080/"
    },
    "id": "l8p_tUS8h8it",
    "outputId": "65806e5f-6262-41c0-ff65-5107464e5c4d"
   },
   "outputs": [
    {
     "name": "stdout",
     "output_type": "stream",
     "text": [
      "+----+----------+\n",
      "|year|     price|\n",
      "+----+----------+\n",
      "|2017|292,676.79|\n",
      "|2016|290,555.07|\n",
      "|2015|288,770.30|\n",
      "|2014|290,852.27|\n",
      "|2013|295,962.27|\n",
      "|2012|293,683.19|\n",
      "|2011|291,117.47|\n",
      "|2010|292,859.62|\n",
      "+----+----------+\n",
      "\n"
     ]
    }
   ],
   "source": [
    "# 4. What is the average price of a home for each year the home was built,\n",
    "# that have 3 bedrooms and 3 bathrooms, rounded to two decimal places?\n",
    "spark.sql(\"\"\"\n",
    "  SELECT\n",
    "    YEAR(date_built) as year,\n",
    "    format_number(avg(price), 2) as price\n",
    "  FROM home_sales\n",
    "  WHERE bedrooms = 3 AND bathrooms = 3\n",
    "  GROUP BY year\n",
    "  ORDER BY year DESC\n",
    "\"\"\").show()\n"
   ]
  },
  {
   "cell_type": "code",
   "execution_count": 77,
   "metadata": {
    "colab": {
     "base_uri": "https://localhost:8080/"
    },
    "id": "Y-Eytz64liDU",
    "outputId": "17119810-56ad-40c3-de5e-c3db57e43bcc"
   },
   "outputs": [
    {
     "name": "stdout",
     "output_type": "stream",
     "text": [
      "+----+----------+\n",
      "|year|     price|\n",
      "+----+----------+\n",
      "|2017|293,281.74|\n",
      "|2016|300,851.65|\n",
      "|2015|307,147.80|\n",
      "|2014|309,821.90|\n",
      "|2013|310,510.69|\n",
      "|2012|319,456.36|\n",
      "|2011|290,688.58|\n",
      "|2010|301,130.93|\n",
      "+----+----------+\n",
      "\n"
     ]
    }
   ],
   "source": [
    "# 5. What is the average price of a home for each year the home was built,\n",
    "# that have 3 bedrooms, 3 bathrooms, with two floors,\n",
    "# and are greater than or equal to 2,000 square feet, rounded to two decimal places?\n",
    "spark.sql(\"\"\"\n",
    "  SELECT \n",
    "    YEAR(date_built) as year,\n",
    "    format_number(avg(price), 2) as price\n",
    "  FROM home_sales\n",
    "  WHERE bedrooms = 3 AND bathrooms = 3 AND floors >= 2 AND sqft_living >= 2000\n",
    "  GROUP BY year\n",
    "  ORDER BY year DESC\n",
    "\"\"\").show()\n"
   ]
  },
  {
   "cell_type": "code",
   "execution_count": 78,
   "metadata": {
    "colab": {
     "base_uri": "https://localhost:8080/"
    },
    "id": "GUrfgOX1pCRd",
    "outputId": "17c25774-855e-4290-a4bd-a04902bdc13a"
   },
   "outputs": [
    {
     "name": "stdout",
     "output_type": "stream",
     "text": [
      "+----+------------+\n",
      "|view|       price|\n",
      "+----+------------+\n",
      "| 100|1,026,669.50|\n",
      "|  99|1,061,201.42|\n",
      "|  98|1,053,739.33|\n",
      "|  97|1,129,040.15|\n",
      "|  96|1,017,815.92|\n",
      "|  95|1,054,325.60|\n",
      "|  94|1,033,536.20|\n",
      "|  93|1,026,006.06|\n",
      "|  92|  970,402.55|\n",
      "|  91|1,137,372.73|\n",
      "|  90|1,062,654.16|\n",
      "|  89|1,107,839.15|\n",
      "|  88|1,031,719.35|\n",
      "|  87|1,072,285.20|\n",
      "|  86|1,070,444.25|\n",
      "|  85|1,056,336.74|\n",
      "|  84|1,117,233.13|\n",
      "|  83|1,033,965.93|\n",
      "|  82|1,063,498.00|\n",
      "|  81|1,053,472.79|\n",
      "+----+------------+\n",
      "only showing top 20 rows\n",
      "\n",
      "--- 0.43862128257751465 seconds ---\n"
     ]
    }
   ],
   "source": [
    "# 6. What is the average price of a home per \"view\" rating, rounded to two decimal places,\n",
    "# having an average home price greater than or equal to $350,000? Order by descending view rating. \n",
    "# Although this is a small dataset, determine the run time for this query.\n",
    "\n",
    "start_time = time.time()\n",
    "\n",
    "query_price_per_view = \"\"\"\n",
    "  SELECT view, format_number(avg(price), 2) as price\n",
    "  FROM home_sales \n",
    "  WHERE price >= 350000\n",
    "  GROUP BY view\n",
    "  ORDER BY view DESC\n",
    "\"\"\"\n",
    "\n",
    "spark.sql(query_price_per_view).show()\n",
    "\n",
    "print(\"--- %s seconds ---\" % (time.time() - start_time))"
   ]
  },
  {
   "cell_type": "markdown",
   "metadata": {},
   "source": [
    "The uncached query takes approximately 0.6s."
   ]
  },
  {
   "cell_type": "code",
   "execution_count": 79,
   "metadata": {
    "colab": {
     "base_uri": "https://localhost:8080/"
    },
    "id": "KAhk3ZD2tFy8",
    "outputId": "0a8f132d-40a8-4bd4-b5f2-2847e98427f5"
   },
   "outputs": [
    {
     "name": "stderr",
     "output_type": "stream",
     "text": [
      "24/04/22 03:17:31 WARN CacheManager: Asked to cache already cached data.\n"
     ]
    },
    {
     "data": {
      "text/plain": [
       "DataFrame[]"
      ]
     },
     "execution_count": 79,
     "metadata": {},
     "output_type": "execute_result"
    }
   ],
   "source": [
    "# 7. Cache the the temporary table home_sales.\n",
    "spark.sql(\"cache table home_sales\")"
   ]
  },
  {
   "cell_type": "code",
   "execution_count": 80,
   "metadata": {
    "colab": {
     "base_uri": "https://localhost:8080/"
    },
    "id": "4opVhbvxtL-i",
    "outputId": "38ec8487-795f-4550-b50c-fcc6f2b7c769"
   },
   "outputs": [
    {
     "data": {
      "text/plain": [
       "True"
      ]
     },
     "execution_count": 80,
     "metadata": {},
     "output_type": "execute_result"
    }
   ],
   "source": [
    "# 8. Check if the table is cached.\n",
    "spark.catalog.isCached('home_sales')"
   ]
  },
  {
   "cell_type": "code",
   "execution_count": 81,
   "metadata": {
    "colab": {
     "base_uri": "https://localhost:8080/"
    },
    "id": "5GnL46lwTSEk",
    "outputId": "09a16c73-194d-4371-95d1-ee64fe83b91c"
   },
   "outputs": [
    {
     "name": "stdout",
     "output_type": "stream",
     "text": [
      "+----+------------+\n",
      "|view|       price|\n",
      "+----+------------+\n",
      "| 100|1,026,669.50|\n",
      "|  99|1,061,201.42|\n",
      "|  98|1,053,739.33|\n",
      "|  97|1,129,040.15|\n",
      "|  96|1,017,815.92|\n",
      "|  95|1,054,325.60|\n",
      "|  94|1,033,536.20|\n",
      "|  93|1,026,006.06|\n",
      "|  92|  970,402.55|\n",
      "|  91|1,137,372.73|\n",
      "|  90|1,062,654.16|\n",
      "|  89|1,107,839.15|\n",
      "|  88|1,031,719.35|\n",
      "|  87|1,072,285.20|\n",
      "|  86|1,070,444.25|\n",
      "|  85|1,056,336.74|\n",
      "|  84|1,117,233.13|\n",
      "|  83|1,033,965.93|\n",
      "|  82|1,063,498.00|\n",
      "|  81|1,053,472.79|\n",
      "+----+------------+\n",
      "only showing top 20 rows\n",
      "\n",
      "--- 0.16827797889709473 seconds ---\n"
     ]
    }
   ],
   "source": [
    "# 9. Using the cached data, run the last query above, that calculates \n",
    "# the average price of a home per \"view\" rating, rounded to two decimal places,\n",
    "# having an average home price greater than or equal to $350,000. \n",
    "# Determine the runtime and compare it to the uncached runtime.\n",
    "\n",
    "start_time = time.time()\n",
    "\n",
    "spark.sql(query_price_per_view).show()\n",
    "\n",
    "print(\"--- %s seconds ---\" % (time.time() - start_time))\n"
   ]
  },
  {
   "cell_type": "markdown",
   "metadata": {},
   "source": [
    "The cached query takes <0.5s"
   ]
  },
  {
   "cell_type": "code",
   "execution_count": 82,
   "metadata": {
    "id": "Qm12WN9isHBR"
   },
   "outputs": [
    {
     "name": "stderr",
     "output_type": "stream",
     "text": [
      "                                                                                \r"
     ]
    }
   ],
   "source": [
    "# 10. Partition by the \"date_built\" field on the formatted parquet home sales data \n",
    "df.write.partitionBy(\"date_built\").mode(\"overwrite\").parquet(\"home_sales_partitioned\")"
   ]
  },
  {
   "cell_type": "code",
   "execution_count": 83,
   "metadata": {
    "id": "AZ7BgY61sRqY"
   },
   "outputs": [
    {
     "name": "stdout",
     "output_type": "stream",
     "text": [
      "+--------------------+----------+--------+--------+---------+-----------+--------+------+----------+----+----------+\n",
      "|                  id|      date|   price|bedrooms|bathrooms|sqft_living|sqft_lot|floors|waterfront|view|date_built|\n",
      "+--------------------+----------+--------+--------+---------+-----------+--------+------+----------+----+----------+\n",
      "|2ed8d509-7372-46d...|2021-08-06|258710.0|       3|        3|     1918.0|  9666.0|     1|         0|  25|2015-01-01|\n",
      "|941bad30-eb49-4a7...|2020-05-09|229896.0|       3|        3|     2197.0|  8641.0|     1|         0|   3|2015-01-01|\n",
      "|c797ca12-52cd-4b1...|2019-06-08|288650.0|       2|        3|     2100.0| 10419.0|     2|         0|   7|2015-01-01|\n",
      "|0cfe57f3-28c2-472...|2019-10-04|308313.0|       3|        3|     1960.0|  9453.0|     2|         0|   2|2015-01-01|\n",
      "|d715f295-2fbf-4e9...|2021-05-17|391574.0|       3|        2|     1635.0|  8040.0|     2|         0|  10|2015-01-01|\n",
      "|a18515a2-86f3-46b...|2022-02-18|419543.0|       3|        2|     1642.0| 12826.0|     2|         0|  24|2015-01-01|\n",
      "|98f6a9ad-8870-474...|2022-05-07|136752.0|       2|        3|     1701.0| 10771.0|     2|         0|   5|2015-01-01|\n",
      "|7ac67498-b6f3-403...|2021-05-12|349318.0|       4|        3|     2417.0| 11304.0|     2|         0|  37|2015-01-01|\n",
      "|c9bfdb1c-2499-4e3...|2021-12-07|268874.0|       2|        2|     1537.0| 12177.0|     1|         0|  10|2015-01-01|\n",
      "|34c31a34-220d-469...|2019-02-06|409011.0|       3|        3|     2356.0| 10507.0|     1|         0|   1|2015-01-01|\n",
      "|be0ccb95-415d-411...|2020-05-15|425154.0|       4|        3|     2120.0| 14229.0|     2|         0|   4|2015-01-01|\n",
      "|e9031a86-1294-444...|2021-10-09|222322.0|       4|        3|     1928.0| 10510.0|     1|         0|  38|2015-01-01|\n",
      "|e6d7c2a7-596e-4ec...|2019-03-15|131201.0|       4|        3|     1633.0| 14655.0|     1|         0|  22|2015-01-01|\n",
      "|6683714b-3df7-454...|2022-02-01|333403.0|       4|        2|     2059.0|  9793.0|     2|         0|   4|2015-01-01|\n",
      "|00fc996f-508c-430...|2021-07-15|373139.0|       3|        3|     1763.0| 11363.0|     1|         0|  39|2015-01-01|\n",
      "|3d5545f8-bd3b-476...|2020-09-19|797862.0|       4|        6|     3494.0| 10385.0|     2|         0|  90|2015-01-01|\n",
      "|ec6d357c-2435-43e...|2019-05-28|401792.0|       3|        2|     1627.0| 10765.0|     1|         0|  50|2015-01-01|\n",
      "|c2be38fb-814a-403...|2020-03-20|352237.0|       3|        3|     2485.0| 10954.0|     2|         0|   6|2015-01-01|\n",
      "|9570de1f-5a74-45b...|2021-11-29|298453.0|       3|        2|     2222.0| 10634.0|     1|         0|   6|2015-01-01|\n",
      "|1baeff4f-fc00-489...|2020-12-17|152775.0|       3|        2|     1623.0| 13851.0|     1|         0|  41|2015-01-01|\n",
      "+--------------------+----------+--------+--------+---------+-----------+--------+------+----------+----+----------+\n",
      "only showing top 20 rows\n",
      "\n"
     ]
    }
   ],
   "source": [
    "# 11. Read the formatted parquet data.\n",
    "df_partitioned = spark.read.parquet(\"home_sales_partitioned\")\n",
    "df_partitioned.show()"
   ]
  },
  {
   "cell_type": "code",
   "execution_count": 84,
   "metadata": {
    "id": "J6MJkHfvVcvh"
   },
   "outputs": [],
   "source": [
    "# 12. Create a temporary table for the parquet data.\n",
    "df_partitioned.createOrReplaceTempView(\"home_sales_partitioned\")"
   ]
  },
  {
   "cell_type": "code",
   "execution_count": 85,
   "metadata": {
    "colab": {
     "base_uri": "https://localhost:8080/"
    },
    "id": "G_Vhb52rU1Sn",
    "outputId": "a0b8d0c4-55ed-4c6c-bfd8-4c8c5334838e"
   },
   "outputs": [
    {
     "name": "stdout",
     "output_type": "stream",
     "text": [
      "+----+------------+\n",
      "|view|       price|\n",
      "+----+------------+\n",
      "| 100|1,026,669.50|\n",
      "|  99|1,061,201.42|\n",
      "|  98|1,053,739.33|\n",
      "|  97|1,129,040.15|\n",
      "|  96|1,017,815.92|\n",
      "|  95|1,054,325.60|\n",
      "|  94|1,033,536.20|\n",
      "|  93|1,026,006.06|\n",
      "|  92|  970,402.55|\n",
      "|  91|1,137,372.73|\n",
      "|  90|1,062,654.16|\n",
      "|  89|1,107,839.15|\n",
      "|  88|1,031,719.35|\n",
      "|  87|1,072,285.20|\n",
      "|  86|1,070,444.25|\n",
      "|  85|1,056,336.74|\n",
      "|  84|1,117,233.13|\n",
      "|  83|1,033,965.93|\n",
      "|  82|1,063,498.00|\n",
      "|  81|1,053,472.79|\n",
      "+----+------------+\n",
      "only showing top 20 rows\n",
      "\n",
      "--- 0.8902251720428467 seconds ---\n"
     ]
    }
   ],
   "source": [
    "# 13. Using the parquet DataFrame, run the last query above, that calculates \n",
    "# the average price of a home per \"view\" rating, rounded to two decimal places,\n",
    "# having an average home price greater than or equal to $350,000. \n",
    "# Determine the runtime and compare it to the cached runtime.\n",
    "\n",
    "start_time = time.time()\n",
    "\n",
    "query_price_per_view_partitioned = query_price_per_view.replace(\"home_sales\", \"home_sales_partitioned\")\n",
    "spark.sql(query_price_per_view_partitioned).show()\n",
    "\n",
    "print(\"--- %s seconds ---\" % (time.time() - start_time))"
   ]
  },
  {
   "cell_type": "markdown",
   "metadata": {},
   "source": [
    "The partitioned query takes approximately as long, if not a bit longer, than the original uncached one."
   ]
  },
  {
   "cell_type": "code",
   "execution_count": 86,
   "metadata": {
    "colab": {
     "base_uri": "https://localhost:8080/"
    },
    "id": "hjjYzQGjtbq8",
    "outputId": "830549fd-bb41-451b-9183-5ebf6e3e470b"
   },
   "outputs": [
    {
     "data": {
      "text/plain": [
       "DataFrame[]"
      ]
     },
     "execution_count": 86,
     "metadata": {},
     "output_type": "execute_result"
    }
   ],
   "source": [
    "# 14. Uncache the home_sales temporary table.\n",
    "spark.sql(\"uncache table home_sales\")"
   ]
  },
  {
   "cell_type": "code",
   "execution_count": 87,
   "metadata": {
    "colab": {
     "base_uri": "https://localhost:8080/"
    },
    "id": "Sy9NBvO7tlmm",
    "outputId": "be73e0e3-5e85-4794-aad9-025fb6fa84a7"
   },
   "outputs": [
    {
     "data": {
      "text/plain": [
       "False"
      ]
     },
     "execution_count": 87,
     "metadata": {},
     "output_type": "execute_result"
    }
   ],
   "source": [
    "# 15. Check if the home_sales is no longer cached\n",
    "spark.catalog.isCached('home_sales')\n"
   ]
  },
  {
   "cell_type": "code",
   "execution_count": null,
   "metadata": {},
   "outputs": [],
   "source": []
  }
 ],
 "metadata": {
  "colab": {
   "collapsed_sections": [],
   "name": "Copy of Home_Sales_solution.ipynb",
   "provenance": []
  },
  "kernelspec": {
   "display_name": "Python 3 (ipykernel)",
   "language": "python",
   "name": "python3"
  },
  "language_info": {
   "codemirror_mode": {
    "name": "ipython",
    "version": 3
   },
   "file_extension": ".py",
   "mimetype": "text/x-python",
   "name": "python",
   "nbconvert_exporter": "python",
   "pygments_lexer": "ipython3",
   "version": "3.9.6"
  },
  "nteract": {
   "version": "0.28.0"
  }
 },
 "nbformat": 4,
 "nbformat_minor": 1
}
